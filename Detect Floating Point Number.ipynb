{
 "cells": [
  {
   "cell_type": "code",
   "execution_count": null,
   "source": [
    "for t in range(int(input())):\r\n",
    "    num = input()\r\n",
    "    flag = True\r\n",
    "    if num.count('.') != 1:\r\n",
    "        flag = False\r\n",
    "    if ('+' in num) and ('-' in num):\r\n",
    "        flag = False\r\n",
    "    if ('+' in num):\r\n",
    "        if num[0] != '+':\r\n",
    "            flag = False\r\n",
    "    if ('-' in num):\r\n",
    "        if num[0] != '-':\r\n",
    "            flag = False\r\n",
    "    try:\r\n",
    "        num2 = float(num)\r\n",
    "    except:\r\n",
    "        flag = False\r\n",
    "    try:    \r\n",
    "        pre, post = num.split('.')\r\n",
    "        if post == '':\r\n",
    "            flag = False\r\n",
    "    except:\r\n",
    "        flag = False\r\n",
    "    \r\n",
    "    print(flag)"
   ],
   "outputs": [],
   "metadata": {}
  }
 ],
 "metadata": {
  "orig_nbformat": 4,
  "language_info": {
   "name": "python",
   "version": "3.8.5",
   "mimetype": "text/x-python",
   "codemirror_mode": {
    "name": "ipython",
    "version": 3
   },
   "pygments_lexer": "ipython3",
   "nbconvert_exporter": "python",
   "file_extension": ".py"
  },
  "kernelspec": {
   "name": "python3",
   "display_name": "Python 3.8.5 64-bit ('base': conda)"
  },
  "interpreter": {
   "hash": "b3ba2566441a7c06988d0923437866b63cedc61552a5af99d1f4fb67d367b25f"
  }
 },
 "nbformat": 4,
 "nbformat_minor": 2
}