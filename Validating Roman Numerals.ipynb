{
 "cells": [
  {
   "cell_type": "code",
   "execution_count": null,
   "source": [
    "# Following pattern validates roman numerals from 1 to 3999\r\n",
    "\r\n",
    "import re\r\n",
    "regex_pattern = r\"^M{0,3}(CM|CD|D?C{0,3})(XC|XL|L?X{0,3})(IX|IV|V?I{0,3})$\""
   ],
   "outputs": [],
   "metadata": {}
  },
  {
   "cell_type": "markdown",
   "source": [
    "# Explanation\r\n",
    "    ^ - Start of string\r\n",
    "    $ - End of string  \r\n",
    "    M{0,3} - 0 to 3 Ms  \r\n",
    "    (CM|CD|D?C{0,3}) - Either CM or CD or D with upto 3 Cs  \r\n",
    "    (XC|XL|L?X{0,3}) - Either XC or XL or L with upto 3 Xs  \r\n",
    "    (IX|IV|V?I{0,3}) - Either IX or IV or V with upto 3 Is  \r\n"
   ],
   "metadata": {}
  }
 ],
 "metadata": {
  "orig_nbformat": 4,
  "language_info": {
   "name": "python"
  }
 },
 "nbformat": 4,
 "nbformat_minor": 2
}