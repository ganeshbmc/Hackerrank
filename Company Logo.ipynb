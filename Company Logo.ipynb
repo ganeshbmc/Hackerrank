{
 "cells": [
  {
   "cell_type": "markdown",
   "source": [
    "# Correct solution"
   ],
   "metadata": {}
  },
  {
   "cell_type": "code",
   "execution_count": 38,
   "source": [
    "string = input()\r\n",
    "counts_dict = {k:string.count(k) for k in 'abcdefghijklmnopqrstuvwxyz'}\r\n",
    "counts = sorted(counts_dict.items(), key=lambda x:x[1], reverse=True)\r\n",
    "for i in range(3):\r\n",
    "    print(counts[i][0], counts[i][1])"
   ],
   "outputs": [
    {
     "output_type": "stream",
     "name": "stdout",
     "text": [
      "b 3\n",
      "a 2\n",
      "c 2\n"
     ]
    }
   ],
   "metadata": {}
  },
  {
   "cell_type": "markdown",
   "source": [
    "## Wrong approach"
   ],
   "metadata": {}
  },
  {
   "cell_type": "code",
   "execution_count": 27,
   "source": [
    "string = input()\r\n",
    "counts_dict = {string.count(k):[] for k in 'abcdefghijklmnopqrstuvwxyz'}\r\n",
    "for c in 'abcdefghijklmnopqrstuvwxyz':\r\n",
    "    counts_dict[string.count(c)].append(c)\r\n",
    "\r\n",
    "maxx = sorted(list(counts_dict.keys()), reverse=True)[0:3]\r\n",
    "top = []\r\n",
    "for k in maxx:\r\n",
    "    top.extend(counts_dict[k])\r\n",
    "print(top[0:3])\r\n"
   ],
   "outputs": [
    {
     "output_type": "stream",
     "name": "stdout",
     "text": [
      "['b', 'a', 'c']\n"
     ]
    }
   ],
   "metadata": {}
  }
 ],
 "metadata": {
  "orig_nbformat": 4,
  "language_info": {
   "name": "python",
   "version": "3.8.5",
   "mimetype": "text/x-python",
   "codemirror_mode": {
    "name": "ipython",
    "version": 3
   },
   "pygments_lexer": "ipython3",
   "nbconvert_exporter": "python",
   "file_extension": ".py"
  },
  "kernelspec": {
   "name": "python3",
   "display_name": "Python 3.8.5 64-bit ('base': conda)"
  },
  "interpreter": {
   "hash": "b3ba2566441a7c06988d0923437866b63cedc61552a5af99d1f4fb67d367b25f"
  }
 },
 "nbformat": 4,
 "nbformat_minor": 2
}