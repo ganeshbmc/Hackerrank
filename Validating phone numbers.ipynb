{
 "cells": [
  {
   "cell_type": "code",
   "execution_count": 3,
   "source": [
    "# Match phone numbers starting with 7, 8, 9\r\n",
    "\r\n",
    "import re\r\n",
    "regex = r\"^[7-9]{1}[0-9]{9}$\"\r\n",
    "n = int(input())\r\n",
    "for _ in range(n):\r\n",
    "    ph = input()\r\n",
    "    if re.match(regex, ph):\r\n",
    "        print('YES')\r\n",
    "    else:\r\n",
    "        print('NO')"
   ],
   "outputs": [
    {
     "output_type": "stream",
     "name": "stdout",
     "text": [
      "Yes\n"
     ]
    }
   ],
   "metadata": {}
  }
 ],
 "metadata": {
  "orig_nbformat": 4,
  "language_info": {
   "name": "python",
   "version": "3.8.5",
   "mimetype": "text/x-python",
   "codemirror_mode": {
    "name": "ipython",
    "version": 3
   },
   "pygments_lexer": "ipython3",
   "nbconvert_exporter": "python",
   "file_extension": ".py"
  },
  "kernelspec": {
   "name": "python3",
   "display_name": "Python 3.8.5 64-bit ('base': conda)"
  },
  "interpreter": {
   "hash": "b3ba2566441a7c06988d0923437866b63cedc61552a5af99d1f4fb67d367b25f"
  }
 },
 "nbformat": 4,
 "nbformat_minor": 2
}