{
 "cells": [
  {
   "cell_type": "code",
   "execution_count": null,
   "source": [
    "import itertools\r\n",
    "\r\n",
    "# Create a master list of lists (\"elems below\") where each sub-list contains the squares of input numbers\r\n",
    "\r\n",
    "k, m = list(map(int, input().split()))\r\n",
    "elems = []\r\n",
    "for _ in range(k):\r\n",
    "    l = list(map(int, input().split()))\r\n",
    "    n, lst = l[0], l[1:]\r\n",
    "    s = [i**2 for i in lst]\r\n",
    "    elems.append(s)\r\n",
    "\r\n",
    "'''Use itertools to list all the cartesian poducts (\"element\" below).\r\n",
    "Then make a list of all the \"sum(element) % m\" using list comprehension.\r\n",
    "Print the max of list generated above.'''\r\n",
    "\r\n",
    "print(max([(sum(element) % m) for element in itertools.product(*elems)]))"
   ],
   "outputs": [],
   "metadata": {}
  }
 ],
 "metadata": {
  "orig_nbformat": 4,
  "language_info": {
   "name": "python",
   "version": "3.8.5",
   "mimetype": "text/x-python",
   "codemirror_mode": {
    "name": "ipython",
    "version": 3
   },
   "pygments_lexer": "ipython3",
   "nbconvert_exporter": "python",
   "file_extension": ".py"
  },
  "kernelspec": {
   "name": "python3",
   "display_name": "Python 3.8.5 64-bit ('base': conda)"
  },
  "interpreter": {
   "hash": "b3ba2566441a7c06988d0923437866b63cedc61552a5af99d1f4fb67d367b25f"
  }
 },
 "nbformat": 4,
 "nbformat_minor": 2
}