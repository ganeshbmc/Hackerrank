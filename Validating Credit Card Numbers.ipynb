{
 "cells": [
  {
   "cell_type": "code",
   "execution_count": null,
   "source": [
    "import re\r\n",
    "pattern = r\"[4-6]{1}[0-9]{3}(-{0,1})[0-9]{4}(-{0,1})[0-9]{4}(-{0,1})[0-9]{4}\"\r\n",
    "p2 = r\"([0-9])\\1\\1\\1\"\r\n",
    "\r\n",
    "n = int(input())\r\n",
    "for _ in range(n):\r\n",
    "    cc = input()\r\n",
    "    cc2 = cc.replace('-', '')\r\n",
    "    if bool(re.match(pattern, cc)) and (not bool(re.search(p2, cc2))) and (len(cc2) == 16):\r\n",
    "        print('Valid')\r\n",
    "    else:\r\n",
    "        print('Invalid')"
   ],
   "outputs": [],
   "metadata": {}
  }
 ],
 "metadata": {
  "orig_nbformat": 4,
  "language_info": {
   "name": "python",
   "version": "3.8.5",
   "mimetype": "text/x-python",
   "codemirror_mode": {
    "name": "ipython",
    "version": 3
   },
   "pygments_lexer": "ipython3",
   "nbconvert_exporter": "python",
   "file_extension": ".py"
  },
  "kernelspec": {
   "name": "python3",
   "display_name": "Python 3.8.5 64-bit ('base': conda)"
  },
  "interpreter": {
   "hash": "b3ba2566441a7c06988d0923437866b63cedc61552a5af99d1f4fb67d367b25f"
  }
 },
 "nbformat": 4,
 "nbformat_minor": 2
}