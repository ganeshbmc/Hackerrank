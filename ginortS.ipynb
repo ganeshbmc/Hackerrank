{
 "cells": [
  {
   "cell_type": "code",
   "execution_count": 5,
   "source": [
    "s = input()\r\n",
    "up = sorted([c for c in s if c.isupper()])\r\n",
    "low = sorted([c for c in s if c.islower()])\r\n",
    "nums = [n for n in s if n.isnumeric()]\r\n",
    "odd = sorted([n for n in nums if int(n) % 2 != 0])\r\n",
    "even = sorted([n for n in nums if int(n) % 2 == 0])\r\n",
    "out = low + up + odd + even\r\n",
    "print(''.join(out))"
   ],
   "outputs": [
    {
     "output_type": "stream",
     "name": "stdout",
     "text": [
      "abcdefghijklmnopqrstuvwxyzABCDEFGHIJKLMNOPQRSTUVWXYZ1357902468\n"
     ]
    }
   ],
   "metadata": {}
  }
 ],
 "metadata": {
  "orig_nbformat": 4,
  "language_info": {
   "name": "python",
   "version": "3.8.5",
   "mimetype": "text/x-python",
   "codemirror_mode": {
    "name": "ipython",
    "version": 3
   },
   "pygments_lexer": "ipython3",
   "nbconvert_exporter": "python",
   "file_extension": ".py"
  },
  "kernelspec": {
   "name": "python3",
   "display_name": "Python 3.8.5 64-bit ('base': conda)"
  },
  "interpreter": {
   "hash": "b3ba2566441a7c06988d0923437866b63cedc61552a5af99d1f4fb67d367b25f"
  }
 },
 "nbformat": 4,
 "nbformat_minor": 2
}