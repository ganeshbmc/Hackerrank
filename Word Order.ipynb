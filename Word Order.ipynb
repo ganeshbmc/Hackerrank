{
 "cells": [
  {
   "cell_type": "code",
   "execution_count": null,
   "source": [
    "from collections import OrderedDict\r\n",
    "n = int(input())\r\n",
    "in_dict = OrderedDict()\r\n",
    "for _ in range(n):\r\n",
    "    word = input()\r\n",
    "    if word in in_dict.keys():\r\n",
    "        in_dict[word] += 1\r\n",
    "    else:\r\n",
    "        in_dict[word] = 1\r\n",
    "print(len(in_dict))\r\n",
    "print(' '.join([str(v) for v in in_dict.values()]))"
   ],
   "outputs": [],
   "metadata": {}
  }
 ],
 "metadata": {
  "orig_nbformat": 4,
  "language_info": {
   "name": "python"
  }
 },
 "nbformat": 4,
 "nbformat_minor": 2
}