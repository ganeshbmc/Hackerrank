{
 "cells": [
  {
   "cell_type": "code",
   "execution_count": 16,
   "source": [
    "import re\r\n",
    "P = input()\r\n",
    "\r\n",
    "regex_integer_in_range = r\"^[1-9]{1}[0-9]{5}$\"\t# Do not delete 'r'.\r\n",
    "regex_alternating_repetitive_digit_pair = r\"(\\d)(?=\\d\\1)\"\t# Do not delete 'r'.\r\n",
    "\r\n",
    "print(bool(re.match(regex_integer_in_range, P)) \r\n",
    "and len(re.findall(regex_alternating_repetitive_digit_pair, P)) < 2)"
   ],
   "outputs": [
    {
     "output_type": "stream",
     "name": "stdout",
     "text": [
      "False\n"
     ]
    }
   ],
   "metadata": {}
  },
  {
   "cell_type": "markdown",
   "source": [
    "## Test cases\r\n",
    "\r\n",
    "110000  \r\n",
    "111456  \r\n",
    "101201  \r\n",
    "137370  \r\n",
    "232323"
   ],
   "metadata": {}
  }
 ],
 "metadata": {
  "orig_nbformat": 4,
  "language_info": {
   "name": "python",
   "version": "3.8.5",
   "mimetype": "text/x-python",
   "codemirror_mode": {
    "name": "ipython",
    "version": 3
   },
   "pygments_lexer": "ipython3",
   "nbconvert_exporter": "python",
   "file_extension": ".py"
  },
  "kernelspec": {
   "name": "python3",
   "display_name": "Python 3.8.5 64-bit ('base': conda)"
  },
  "interpreter": {
   "hash": "b3ba2566441a7c06988d0923437866b63cedc61552a5af99d1f4fb67d367b25f"
  }
 },
 "nbformat": 4,
 "nbformat_minor": 2
}