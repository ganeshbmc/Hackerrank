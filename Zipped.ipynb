{
 "cells": [
  {
   "cell_type": "code",
   "execution_count": null,
   "source": [
    "# Learning point: zip all the iterables inside another iterable (eg. list of lists) at once using the \"*\" command\r\n",
    "\r\n",
    "n, x = [int(i) for i in input().split(' ')]\r\n",
    "z = []\r\n",
    "for s in range(x):\r\n",
    "    z.append(list(map(float, input().split())))\r\n",
    "    \r\n",
    "scores = list(zip(*z))\r\n",
    "for item in scores:\r\n",
    "    print(sum(item)/len(item))"
   ],
   "outputs": [],
   "metadata": {}
  }
 ],
 "metadata": {
  "orig_nbformat": 4,
  "language_info": {
   "name": "python"
  }
 },
 "nbformat": 4,
 "nbformat_minor": 2
}