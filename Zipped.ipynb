{
  "nbformat": 4,
  "nbformat_minor": 0,
  "metadata": {
    "orig_nbformat": 4,
    "colab": {
      "name": "Zipped.ipynb",
      "provenance": [],
      "include_colab_link": true
    },
    "language_info": {
      "name": "python"
    },
    "kernelspec": {
      "name": "python3",
      "display_name": "Python 3"
    }
  },
  "cells": [
    {
      "cell_type": "markdown",
      "metadata": {
        "id": "view-in-github",
        "colab_type": "text"
      },
      "source": [
        "<a href=\"https://colab.research.google.com/github/ganeshbmc/Hackerrank/blob/Hackerrank/Zipped.ipynb\" target=\"_parent\"><img src=\"https://colab.research.google.com/assets/colab-badge.svg\" alt=\"Open In Colab\"/></a>"
      ]
    },
    {
      "cell_type": "code",
      "metadata": {
        "id": "j5reYEj4PiT5",
        "outputId": "5287ff70-f0b4-41bf-cb12-29d8c5bd8eb9",
        "colab": {
          "base_uri": "https://localhost:8080/"
        }
      },
      "source": [
        "# Learning point: zip all the iterables inside another iterable (eg. list of lists) at once using the \"*\" command\n",
        "\n",
        "n, x = [int(i) for i in input().split(' ')]\n",
        "z = []\n",
        "for s in range(x):\n",
        "    z.append(list(map(float, input().split())))\n",
        "    \n",
        "scores = list(zip(*z))\n",
        "for item in scores:\n",
        "    print(sum(item)/len(item))"
      ],
      "execution_count": 2,
      "outputs": [
        {
          "output_type": "stream",
          "text": [
            "2 2\n",
            "50 70\n",
            "60 90\n",
            "55.0\n",
            "80.0\n"
          ],
          "name": "stdout"
        }
      ]
    }
  ]
}