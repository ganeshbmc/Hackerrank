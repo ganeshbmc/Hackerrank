{
 "cells": [
  {
   "cell_type": "code",
   "execution_count": 25,
   "source": [
    "def fun(s):\r\n",
    "    if (s.count('@') == 1) and (s.count('.')  == 1) and (s.index('@') < s.index('.')):\r\n",
    "        username, rem = s.split('@')\r\n",
    "        domain, ext = rem.split('.')\r\n",
    "        \r\n",
    "        if all([True if c.lower() in 'abcdefghijklmnopqrstuvwxyz_-0123456789' else False for c in username]) and (len(username) > 0):\r\n",
    "            if all([True if c.lower() in 'abcdefghijklmnopqrstuvwxyz0123456789' else False for c in domain]) and (len(domain) > 0):\r\n",
    "                if all([True if c.lower() in 'abcdefghijklmnopqrstuvwxyz' else False for c in ext]) and (len(ext) <= 3):\r\n",
    "                    return True\r\n",
    "    return False\r\n",
    "\r\n",
    "# Test cases\r\n",
    "# print(fun('lara@hackerrank.com'))\r\n",
    "# print(fun('harsh@gmail'))\r\n",
    "# print(fun('iota_98@hackerrank.com'))\r\n",
    "# print(fun('its@gmail.com1'))\r\n",
    "# print(fun('mike13445@yahoomail9.server'))\r\n",
    "# print(fun('rase23@ha_ch.com'))\r\n",
    "# print(fun('daniyal@gmail.coma'))\r\n",
    "# print(fun('thatisit@thatisit'))\r\n",
    "print(fun('itsme@gmail'))\r\n",
    "print(fun('@something'))\r\n",
    "print(fun('@something.com'))\r\n",
    "print(fun('@something.co1'))\r\n",
    "print(fun('sone.com'))\r\n",
    "\r\n"
   ],
   "outputs": [
    {
     "output_type": "stream",
     "name": "stdout",
     "text": [
      "False\n",
      "False\n",
      "False\n",
      "False\n",
      "False\n"
     ]
    }
   ],
   "metadata": {}
  },
  {
   "cell_type": "code",
   "execution_count": 22,
   "source": [
    "def fun(s):\r\n",
    "    if (s.count('@') == 1) and (s.count('.')  == 1) and (s.index('@') < s.index('.')):\r\n",
    "        username, rem = s.split('@')\r\n",
    "        domain, ext = rem.split('.')\r\n",
    "        print(username, domain, ext)\r\n",
    "        if all([True for c in username if c.lower() in 'abcdefghijklmnopqrstuvwxyz_-0123456789']):\r\n",
    "            if all([True for c in domain if c.lower() in 'abcdefghijklmnopqrstuvwxyz0123456789']):\r\n",
    "                if all([True for c in ext if c.lower() in 'abcdefghijklmnopqrstuvwxyz']) and (len(ext) <= 3):\r\n",
    "                    return True\r\n",
    "    return False\r\n",
    "\r\n",
    "print(fun('@something.com'))"
   ],
   "outputs": [
    {
     "output_type": "stream",
     "name": "stdout",
     "text": [
      " something com\n",
      "True\n"
     ]
    }
   ],
   "metadata": {}
  },
  {
   "cell_type": "code",
   "execution_count": 23,
   "source": [
    "s = ''\r\n",
    "if all([True for c in s if c.lower() in 'abcdefghijklmnopqrstuvwxyz0123456789']):\r\n",
    "    print('ok')\r\n"
   ],
   "outputs": [
    {
     "output_type": "stream",
     "name": "stdout",
     "text": [
      "ok\n"
     ]
    }
   ],
   "metadata": {}
  },
  {
   "cell_type": "code",
   "execution_count": 24,
   "source": [
    "print([True for c in '' if (c.lower() in 'abcdefghijklmnopqrstuvwxyz0123456789')])"
   ],
   "outputs": [
    {
     "output_type": "stream",
     "name": "stdout",
     "text": [
      "[]\n"
     ]
    }
   ],
   "metadata": {}
  },
  {
   "cell_type": "code",
   "execution_count": 17,
   "source": [
    "for i in s:\r\n",
    "    print(i)"
   ],
   "outputs": [
    {
     "output_type": "stream",
     "name": "stdout",
     "text": [
      "h\n",
      "a\n",
      "_\n",
      "c\n",
      "h\n"
     ]
    }
   ],
   "metadata": {}
  }
 ],
 "metadata": {
  "orig_nbformat": 4,
  "language_info": {
   "name": "python",
   "version": "3.8.5",
   "mimetype": "text/x-python",
   "codemirror_mode": {
    "name": "ipython",
    "version": 3
   },
   "pygments_lexer": "ipython3",
   "nbconvert_exporter": "python",
   "file_extension": ".py"
  },
  "kernelspec": {
   "name": "python3",
   "display_name": "Python 3.8.5 64-bit ('base': conda)"
  },
  "interpreter": {
   "hash": "b3ba2566441a7c06988d0923437866b63cedc61552a5af99d1f4fb67d367b25f"
  }
 },
 "nbformat": 4,
 "nbformat_minor": 2
}