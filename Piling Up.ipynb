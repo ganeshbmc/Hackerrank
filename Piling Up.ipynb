{
 "cells": [
  {
   "cell_type": "markdown",
   "source": [
    "# All private tests passed"
   ],
   "metadata": {}
  },
  {
   "cell_type": "code",
   "execution_count": null,
   "source": [
    "# Solution By Chandu\n",
    " \n",
    "T = int(input())\n",
    "for _ in range(T):\n",
    "    n = int(input())\n",
    "    blocks = list(map(int,input().split(' ')))\n",
    "    L_ = blocks.copy()\n",
    "    output=[]\n",
    "    for i in range(len(blocks)):\n",
    "        if L_[0]>=L_[-1]:\n",
    "            max_ele = L_[0]\n",
    "            L_.pop(0)\n",
    "        else:\n",
    "            max_ele = L_[-1]\n",
    "            L_.pop(-1)\n",
    "        if len(output)!=0 and output[-1]>=max_ele:\n",
    "            output.append(max_ele)\n",
    "        elif len(output)==0:\n",
    "            output.append(max_ele)\n",
    "        if len(output)==len(blocks):\n",
    "            print('Yes')\n",
    "        else:\n",
    "            print('No')"
   ],
   "outputs": [],
   "metadata": {}
  },
  {
   "cell_type": "markdown",
   "source": [
    "## Only 2/5 Private Tests Passed"
   ],
   "metadata": {}
  },
  {
   "cell_type": "code",
   "execution_count": null,
   "source": [
    "def f1(lst):\n",
    "    # j = max(lst[0], lst[-1])\n",
    "    if lst[0] >= lst[-1]:\n",
    "        j = lst.pop(0)\n",
    "    else:\n",
    "        j = lst.pop(-1)\n",
    "    return j, lst\n",
    "\n",
    "for test in range(int(input())):\n",
    "    n = int(input())\n",
    "    lst = list(map(int, input().split()))\n",
    "    # print(n , lst)\n",
    "    while len(lst) > 0:\n",
    "        if len(lst) > 1:\n",
    "            j, lst = f1(lst)\n",
    "        if len(lst) == 1:\n",
    "            if j >= lst[0]:\n",
    "                print('Yes')\n",
    "                break\n",
    "            else:\n",
    "                print('No')\n",
    "                break\n",
    "        else:\n",
    "            if j >= lst[0] and j >= lst[-1]:\n",
    "                j, lst = f1(lst)\n",
    "            elif j >= lst[0]:\n",
    "                j = lst[0]\n",
    "                lst = lst[1:]\n",
    "            elif j >= lst[-1]:\n",
    "                j = lst[-1]\n",
    "                lst = lst[:-1]\n",
    "            else:\n",
    "                print('No')\n",
    "                break\n",
    "            "
   ],
   "outputs": [],
   "metadata": {}
  },
  {
   "cell_type": "markdown",
   "source": [
    "## Approach which did not work"
   ],
   "metadata": {}
  },
  {
   "cell_type": "code",
   "execution_count": null,
   "source": [
    "def piling(cubes):\n",
    "    if len(cubes) == 0:\n",
    "        return True\n",
    "    else:\n",
    "        if cubes[0] >= cubes[-1]:\n",
    "            j = cubes[0]\n",
    "            cubes.pop(0)\n",
    "            if len(cubes) == 0:\n",
    "                return True\n",
    "            else:\n",
    "                if j >= cubes[0]:\n",
    "                    j = cubes[0]\n",
    "                    cubes.pop(0)\n",
    "                    piling(cubes)\n",
    "                elif j >= cubes[-1]:\n",
    "                    j = cubes[-1]\n",
    "                    cubes.pop(0)\n",
    "                    piling(cubes)\n",
    "                else:\n",
    "                    return False\n",
    "        else:\n",
    "            j = cubes[-1]\n",
    "            cubes.pop(-1)\n",
    "            if len(cubes) == 0:\n",
    "                return True\n",
    "            else:\n",
    "                if j >= cubes[0]:\n",
    "                    j = cubes[0]\n",
    "                    cubes.pop(0)\n",
    "                    piling(cubes)\n",
    "                elif j >= cubes[-1]:\n",
    "                    j = cubes[-1]\n",
    "                    cubes.pop(0)\n",
    "                    piling(cubes)\n",
    "                else:\n",
    "                    return False\n",
    "\n",
    "\n",
    "t = int(input())\n",
    "for _ in range(t):\n",
    "    n = int(input())\n",
    "    cubes = [int(i) for i in input().split()]\n",
    "    if piling(cubes):\n",
    "        print('Yes')\n",
    "    else:\n",
    "        print('No')\n",
    "\n",
    "# Try again!\n",
    "\n",
    "\n",
    "\n",
    "    \n",
    "\n"
   ],
   "outputs": [],
   "metadata": {}
  }
 ],
 "metadata": {
  "orig_nbformat": 4,
  "language_info": {
   "name": "python",
   "version": "3.8.5",
   "mimetype": "text/x-python",
   "codemirror_mode": {
    "name": "ipython",
    "version": 3
   },
   "pygments_lexer": "ipython3",
   "nbconvert_exporter": "python",
   "file_extension": ".py"
  },
  "kernelspec": {
   "name": "python3",
   "display_name": "Python 3.8.5 64-bit ('base': conda)"
  },
  "interpreter": {
   "hash": "b3ba2566441a7c06988d0923437866b63cedc61552a5af99d1f4fb67d367b25f"
  }
 },
 "nbformat": 4,
 "nbformat_minor": 2
}