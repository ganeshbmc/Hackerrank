{
 "cells": [
  {
   "cell_type": "code",
   "execution_count": null,
   "source": [
    "def piling(cubes):\r\n",
    "    if len(cubes) == 0:\r\n",
    "        return True\r\n",
    "    else:\r\n",
    "        if cubes[0] >= cubes[-1]:\r\n",
    "            j = cubes[0]\r\n",
    "            cubes.pop(0)\r\n",
    "            if len(cubes) == 0:\r\n",
    "                return True\r\n",
    "            else:\r\n",
    "                if j >= cubes[0]:\r\n",
    "                    j = cubes[0]\r\n",
    "                    cubes.pop(0)\r\n",
    "                    piling(cubes)\r\n",
    "                elif j >= cubes[-1]:\r\n",
    "                    j = cubes[-1]\r\n",
    "                    cubes.pop(0)\r\n",
    "                    piling(cubes)\r\n",
    "                else:\r\n",
    "                    return False\r\n",
    "        else:\r\n",
    "            j = cubes[-1]\r\n",
    "            cubes.pop(-1)\r\n",
    "            if len(cubes) == 0:\r\n",
    "                return True\r\n",
    "            else:\r\n",
    "                if j >= cubes[0]:\r\n",
    "                    j = cubes[0]\r\n",
    "                    cubes.pop(0)\r\n",
    "                    piling(cubes)\r\n",
    "                elif j >= cubes[-1]:\r\n",
    "                    j = cubes[-1]\r\n",
    "                    cubes.pop(0)\r\n",
    "                    piling(cubes)\r\n",
    "                else:\r\n",
    "                    return False\r\n",
    "\r\n",
    "\r\n",
    "t = int(input())\r\n",
    "for _ in range(t):\r\n",
    "    n = int(input())\r\n",
    "    cubes = [int(i) for i in input().split()]\r\n",
    "    if piling(cubes):\r\n",
    "        print('Yes')\r\n",
    "    else:\r\n",
    "        print('No')\r\n",
    "\r\n",
    "\r\n",
    "\r\n",
    "    \r\n",
    "\r\n"
   ],
   "outputs": [],
   "metadata": {}
  },
  {
   "cell_type": "code",
   "execution_count": 3,
   "source": [
    "l = list(range(1,10))\r\n",
    "l[0:-1]"
   ],
   "outputs": [
    {
     "output_type": "execute_result",
     "data": {
      "text/plain": [
       "[1, 2, 3, 4, 5, 6, 7, 8]"
      ]
     },
     "metadata": {},
     "execution_count": 3
    }
   ],
   "metadata": {}
  }
 ],
 "metadata": {
  "orig_nbformat": 4,
  "language_info": {
   "name": "python",
   "version": "3.8.5",
   "mimetype": "text/x-python",
   "codemirror_mode": {
    "name": "ipython",
    "version": 3
   },
   "pygments_lexer": "ipython3",
   "nbconvert_exporter": "python",
   "file_extension": ".py"
  },
  "kernelspec": {
   "name": "python3",
   "display_name": "Python 3.8.5 64-bit ('base': conda)"
  },
  "interpreter": {
   "hash": "b3ba2566441a7c06988d0923437866b63cedc61552a5af99d1f4fb67d367b25f"
  }
 },
 "nbformat": 4,
 "nbformat_minor": 2
}