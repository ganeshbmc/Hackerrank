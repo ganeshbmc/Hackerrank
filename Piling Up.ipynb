{
 "cells": [
  {
   "cell_type": "markdown",
   "source": [
    "# Only 2/5 private tests passed"
   ],
   "metadata": {}
  },
  {
   "cell_type": "code",
   "execution_count": null,
   "source": [
    "def f1(lst):\r\n",
    "    # j = max(lst[0], lst[-1])\r\n",
    "    if lst[0] >= lst[-1]:\r\n",
    "        j = lst.pop(0)\r\n",
    "    else:\r\n",
    "        j = lst.pop(-1)\r\n",
    "    return j, lst\r\n",
    "\r\n",
    "for test in range(int(input())):\r\n",
    "    n = int(input())\r\n",
    "    lst = list(map(int, input().split()))\r\n",
    "    # print(n , lst)\r\n",
    "    while len(lst) > 0:\r\n",
    "        if len(lst) > 1:\r\n",
    "            j, lst = f1(lst)\r\n",
    "        if len(lst) == 1:\r\n",
    "            if j >= lst[0]:\r\n",
    "                print('Yes')\r\n",
    "                break\r\n",
    "            else:\r\n",
    "                print('No')\r\n",
    "                break\r\n",
    "        else:\r\n",
    "            if j >= lst[0] and j >= lst[-1]:\r\n",
    "                j, lst = f1(lst)\r\n",
    "            elif j >= lst[0]:\r\n",
    "                j = lst[0]\r\n",
    "                lst = lst[1:]\r\n",
    "            elif j >= lst[-1]:\r\n",
    "                j = lst[-1]\r\n",
    "                lst = lst[:-1]\r\n",
    "            else:\r\n",
    "                print('No')\r\n",
    "                break\r\n",
    "            "
   ],
   "outputs": [],
   "metadata": {}
  },
  {
   "cell_type": "markdown",
   "source": [
    "## Approach which did not work"
   ],
   "metadata": {}
  },
  {
   "cell_type": "code",
   "execution_count": null,
   "source": [
    "def piling(cubes):\r\n",
    "    if len(cubes) == 0:\r\n",
    "        return True\r\n",
    "    else:\r\n",
    "        if cubes[0] >= cubes[-1]:\r\n",
    "            j = cubes[0]\r\n",
    "            cubes.pop(0)\r\n",
    "            if len(cubes) == 0:\r\n",
    "                return True\r\n",
    "            else:\r\n",
    "                if j >= cubes[0]:\r\n",
    "                    j = cubes[0]\r\n",
    "                    cubes.pop(0)\r\n",
    "                    piling(cubes)\r\n",
    "                elif j >= cubes[-1]:\r\n",
    "                    j = cubes[-1]\r\n",
    "                    cubes.pop(0)\r\n",
    "                    piling(cubes)\r\n",
    "                else:\r\n",
    "                    return False\r\n",
    "        else:\r\n",
    "            j = cubes[-1]\r\n",
    "            cubes.pop(-1)\r\n",
    "            if len(cubes) == 0:\r\n",
    "                return True\r\n",
    "            else:\r\n",
    "                if j >= cubes[0]:\r\n",
    "                    j = cubes[0]\r\n",
    "                    cubes.pop(0)\r\n",
    "                    piling(cubes)\r\n",
    "                elif j >= cubes[-1]:\r\n",
    "                    j = cubes[-1]\r\n",
    "                    cubes.pop(0)\r\n",
    "                    piling(cubes)\r\n",
    "                else:\r\n",
    "                    return False\r\n",
    "\r\n",
    "\r\n",
    "t = int(input())\r\n",
    "for _ in range(t):\r\n",
    "    n = int(input())\r\n",
    "    cubes = [int(i) for i in input().split()]\r\n",
    "    if piling(cubes):\r\n",
    "        print('Yes')\r\n",
    "    else:\r\n",
    "        print('No')\r\n",
    "\r\n",
    "# Try again!\r\n",
    "\r\n",
    "\r\n",
    "\r\n",
    "    \r\n",
    "\r\n"
   ],
   "outputs": [],
   "metadata": {}
  }
 ],
 "metadata": {
  "orig_nbformat": 4,
  "language_info": {
   "name": "python",
   "version": "3.8.5",
   "mimetype": "text/x-python",
   "codemirror_mode": {
    "name": "ipython",
    "version": 3
   },
   "pygments_lexer": "ipython3",
   "nbconvert_exporter": "python",
   "file_extension": ".py"
  },
  "kernelspec": {
   "name": "python3",
   "display_name": "Python 3.8.5 64-bit ('base': conda)"
  },
  "interpreter": {
   "hash": "b3ba2566441a7c06988d0923437866b63cedc61552a5af99d1f4fb67d367b25f"
  }
 },
 "nbformat": 4,
 "nbformat_minor": 2
}