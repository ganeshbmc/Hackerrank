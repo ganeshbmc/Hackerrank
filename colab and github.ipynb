{
  "nbformat": 4,
  "nbformat_minor": 2,
  "metadata": {
    "orig_nbformat": 4,
    "language_info": {
      "name": "python",
      "version": "3.8.5",
      "mimetype": "text/x-python",
      "codemirror_mode": {
        "name": "ipython",
        "version": 3
      },
      "pygments_lexer": "ipython3",
      "nbconvert_exporter": "python",
      "file_extension": ".py"
    },
    "kernelspec": {
      "name": "python3",
      "display_name": "Python 3.8.5 64-bit ('base': conda)"
    },
    "interpreter": {
      "hash": "b3ba2566441a7c06988d0923437866b63cedc61552a5af99d1f4fb67d367b25f"
    },
    "colab": {
      "name": "colab and github.ipynb",
      "provenance": []
    }
  },
  "cells": [
    {
      "cell_type": "markdown",
      "source": [
        "## Testing if GitHub ipynb files can be opened in Google Colab"
      ],
      "metadata": {
        "id": "G6gehVQlIhXj"
      }
    },
    {
      "cell_type": "code",
      "execution_count": 2,
      "source": [
        "import numpy as np\n",
        "\n",
        "a = np.linspace(1, 10, 10)\n",
        "print(a)"
      ],
      "outputs": [
        {
          "output_type": "stream",
          "name": "stdout",
          "text": [
            "[ 1.  2.  3.  4.  5.  6.  7.  8.  9. 10.]\n"
          ]
        }
      ],
      "metadata": {
        "colab": {
          "base_uri": "https://localhost:8080/"
        },
        "id": "rZeow0YuIhXp",
        "outputId": "05481fd7-acc3-46be-8f7b-f8b4428cbd42"
      }
    },
    {
      "cell_type": "code",
      "execution_count": 4,
      "source": [
        "b = np.array([range(11, 26)]).reshape((3,5))\n",
        "print(b)"
      ],
      "outputs": [
        {
          "output_type": "stream",
          "name": "stdout",
          "text": [
            "[[11 12 13 14 15]\n",
            " [16 17 18 19 20]\n",
            " [21 22 23 24 25]]\n"
          ]
        }
      ],
      "metadata": {
        "colab": {
          "base_uri": "https://localhost:8080/"
        },
        "id": "rcXKnjEYIjRK",
        "outputId": "bebe1c11-6bf7-46c6-a2c2-8762b51a97b1"
      }
    },
    {
      "cell_type": "code",
      "execution_count": 4,
      "source": [
        "print(a.dtype)\r\n",
        "print(a.shape)\r\n",
        "print(a.size)\r\n",
        "print(a.ndim)"
      ],
      "outputs": [
        {
          "output_type": "stream",
          "name": "stdout",
          "text": [
            "float64\n",
            "(10,)\n",
            "10\n",
            "1\n"
          ]
        }
      ],
      "metadata": {
        "id": "MqMTGdWeJZb9",
        "outputId": "c612d8a1-815b-4e17-fea9-189c4e17b03e",
        "colab": {
          "base_uri": "https://localhost:8080/"
        }
      }
    },
    {
      "cell_type": "code",
      "execution_count": 5,
      "source": [
        "print(b.dtype)\r\n",
        "print(b.shape)\r\n",
        "print(b.size)\r\n",
        "print(b.ndim)"
      ],
      "outputs": [
        {
          "output_type": "stream",
          "name": "stdout",
          "text": [
            "int32\n",
            "(3, 5)\n",
            "15\n",
            "2\n"
          ]
        }
      ],
      "metadata": {}
    }
  ]
}