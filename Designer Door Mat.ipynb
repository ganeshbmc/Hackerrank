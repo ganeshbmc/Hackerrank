{
 "cells": [
  {
   "cell_type": "code",
   "execution_count": 28,
   "source": [
    "n, m = map(int,input().split())\r\n",
    "pattern = [('.|.'*(2*i + 1)).center(m, '-') for i in range(n//2)]\r\n",
    "print('\\n'.join(pattern + ['WELCOME'.center(m, '-')] + pattern[::-1]))"
   ],
   "outputs": [
    {
     "output_type": "stream",
     "name": "stdout",
     "text": [
      "------------.|.------------\n",
      "---------.|..|..|.---------\n",
      "------.|..|..|..|..|.------\n",
      "---.|..|..|..|..|..|..|.---\n",
      "----------WELCOME----------\n",
      "---.|..|..|..|..|..|..|.---\n",
      "------.|..|..|..|..|.------\n",
      "---------.|..|..|.---------\n",
      "------------.|.------------\n"
     ]
    }
   ],
   "metadata": {}
  },
  {
   "cell_type": "markdown",
   "source": [
    "# Code Alore IITM Hackathon question"
   ],
   "metadata": {}
  },
  {
   "cell_type": "code",
   "execution_count": 27,
   "source": [
    "x = int(input())\r\n",
    "patt1 = [('/'+' '*(2*i)+'\\\\').center(x//2) for i in range(x//4)]\r\n",
    "patt2 = [('\\\\'+' '*(2*i)+'/').center(x//2) for i in range(x//4)]\r\n",
    "\r\n",
    "print('\\n'.join(patt1))\r\n",
    "print('\\n'.join(patt2[::-1]))\r\n"
   ],
   "outputs": [
    {
     "output_type": "stream",
     "name": "stdout",
     "text": [
      " /\\ \n",
      "/  \\\n",
      "\\  /\n",
      " \\/ \n"
     ]
    }
   ],
   "metadata": {}
  }
 ],
 "metadata": {
  "orig_nbformat": 4,
  "language_info": {
   "name": "python",
   "version": "3.8.5",
   "mimetype": "text/x-python",
   "codemirror_mode": {
    "name": "ipython",
    "version": 3
   },
   "pygments_lexer": "ipython3",
   "nbconvert_exporter": "python",
   "file_extension": ".py"
  },
  "kernelspec": {
   "name": "python3",
   "display_name": "Python 3.8.5 64-bit ('base': conda)"
  },
  "interpreter": {
   "hash": "b3ba2566441a7c06988d0923437866b63cedc61552a5af99d1f4fb67d367b25f"
  }
 },
 "nbformat": 4,
 "nbformat_minor": 2
}