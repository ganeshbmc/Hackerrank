{
  "nbformat": 4,
  "nbformat_minor": 0,
  "metadata": {
    "orig_nbformat": 4,
    "language_info": {
      "name": "python",
      "version": "3.8.5",
      "mimetype": "text/x-python",
      "codemirror_mode": {
        "name": "ipython",
        "version": 3
      },
      "pygments_lexer": "ipython3",
      "nbconvert_exporter": "python",
      "file_extension": ".py"
    },
    "kernelspec": {
      "name": "python3",
      "display_name": "Python 3.8.5 64-bit ('base': conda)"
    },
    "interpreter": {
      "hash": "b3ba2566441a7c06988d0923437866b63cedc61552a5af99d1f4fb67d367b25f"
    },
    "colab": {
      "name": "Designer Door Mat.ipynb",
      "provenance": [],
      "include_colab_link": true
    }
  },
  "cells": [
    {
      "cell_type": "markdown",
      "metadata": {
        "id": "view-in-github",
        "colab_type": "text"
      },
      "source": [
        "<a href=\"https://colab.research.google.com/github/ganeshbmc/Hackerrank/blob/Hackerrank/Designer%20Door%20Mat.ipynb\" target=\"_parent\"><img src=\"https://colab.research.google.com/assets/colab-badge.svg\" alt=\"Open In Colab\"/></a>"
      ]
    },
    {
      "cell_type": "code",
      "metadata": {
        "id": "LQw6ZQ2HEh1A",
        "outputId": "668799a9-0fac-4ae9-8b72-d33d589938fc",
        "colab": {
          "base_uri": "https://localhost:8080/"
        }
      },
      "source": [
        "n, m = map(int,input().split())\n",
        "pattern = [('.|.'*(2*i + 1)).center(m, '-') for i in range(n//2)]\n",
        "print('\\n'.join(pattern + ['WELCOME'.center(m, '-')] + pattern[::-1]))"
      ],
      "execution_count": 2,
      "outputs": [
        {
          "output_type": "stream",
          "text": [
            "9 27\n",
            "------------.|.------------\n",
            "---------.|..|..|.---------\n",
            "------.|..|..|..|..|.------\n",
            "---.|..|..|..|..|..|..|.---\n",
            "----------WELCOME----------\n",
            "---.|..|..|..|..|..|..|.---\n",
            "------.|..|..|..|..|.------\n",
            "---------.|..|..|.---------\n",
            "------------.|.------------\n"
          ],
          "name": "stdout"
        }
      ]
    },
    {
      "cell_type": "markdown",
      "metadata": {
        "id": "SPMXtyAREmKc"
      },
      "source": [
        "## Similar question on creating patterns asked in codealore competition"
      ]
    },
    {
      "cell_type": "markdown",
      "metadata": {
        "id": "wbp3VhzOEh1F"
      },
      "source": [
        "# Code Alore IITM Hackathon question"
      ]
    },
    {
      "cell_type": "code",
      "metadata": {
        "id": "Xlb5Yg9qEh1I",
        "outputId": "c8db0faf-916c-437f-eb66-3a121cc6e646"
      },
      "source": [
        "x = int(input())\n",
        "patt1 = [('/'+' '*(2*i)+'\\\\').center(x//2) for i in range(x//4)]\n",
        "patt2 = [('\\\\'+' '*(2*i)+'/').center(x//2) for i in range(x//4)]\n",
        "\n",
        "print('\\n'.join(patt1))\n",
        "print('\\n'.join(patt2[::-1]))\n"
      ],
      "execution_count": null,
      "outputs": [
        {
          "output_type": "stream",
          "name": "stdout",
          "text": [
            " /\\ \n",
            "/  \\\n",
            "\\  /\n",
            " \\/ \n"
          ]
        }
      ]
    }
  ]
}