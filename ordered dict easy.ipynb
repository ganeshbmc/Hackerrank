{
 "cells": [
  {
   "cell_type": "markdown",
   "source": [
    "# Solution 1"
   ],
   "metadata": {}
  },
  {
   "cell_type": "code",
   "execution_count": null,
   "source": [
    "from collections import OrderedDict\r\n",
    "n = int(input())\r\n",
    "\r\n",
    "od = OrderedDict()\r\n",
    "for _ in range(n):\r\n",
    "    item, price = input().rsplit(' ', 1)       \r\n",
    "    # Learning point above - using \"rsplit()\"\r\n",
    "    # Has 2 arguments: delimiter and the number of times to split from the end\r\n",
    "    price = int(price)\r\n",
    "    if item in od.keys():\r\n",
    "        od[item] += price\r\n",
    "    else:\r\n",
    "        od[item] = price\r\n",
    "\r\n",
    "for k, v in od.items():\r\n",
    "    print(k, v)"
   ],
   "outputs": [],
   "metadata": {}
  },
  {
   "cell_type": "markdown",
   "source": [
    "# Solution 2"
   ],
   "metadata": {}
  },
  {
   "cell_type": "code",
   "execution_count": 6,
   "source": [
    "from collections import OrderedDict\r\n",
    "n = int(input())\r\n",
    "groceries = OrderedDict()\r\n",
    "for _ in range(n):\r\n",
    "    item, price = input().rsplit(' ', 1)\r\n",
    "    if item in groceries.keys():\r\n",
    "        groceries[item] += int(price)\r\n",
    "    else:\r\n",
    "        groceries[item] = int(price)\r\n",
    "for k, v in groceries.items():\r\n",
    "    print(k, v)\r\n"
   ],
   "outputs": [
    {
     "output_type": "stream",
     "name": "stdout",
     "text": [
      "BANANA FRIES 12\n"
     ]
    }
   ],
   "metadata": {}
  }
 ],
 "metadata": {
  "orig_nbformat": 4,
  "language_info": {
   "name": "python",
   "version": "3.8.5",
   "mimetype": "text/x-python",
   "codemirror_mode": {
    "name": "ipython",
    "version": 3
   },
   "pygments_lexer": "ipython3",
   "nbconvert_exporter": "python",
   "file_extension": ".py"
  },
  "kernelspec": {
   "name": "python3",
   "display_name": "Python 3.8.5 64-bit ('base': conda)"
  },
  "interpreter": {
   "hash": "b3ba2566441a7c06988d0923437866b63cedc61552a5af99d1f4fb67d367b25f"
  }
 },
 "nbformat": 4,
 "nbformat_minor": 2
}