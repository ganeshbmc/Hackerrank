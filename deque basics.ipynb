{
 "cells": [
  {
   "cell_type": "code",
   "execution_count": null,
   "source": [
    "from collections import deque\r\n",
    "output = deque()\r\n",
    "n = int(input())\r\n",
    "for _ in range(n):\r\n",
    "    s = input()\r\n",
    "    try:\r\n",
    "        method, v = s.split()\r\n",
    "    except:\r\n",
    "        method = s\r\n",
    "    v = int(v)\r\n",
    "    if method == 'append':\r\n",
    "        output.append(v)\r\n",
    "    if method == 'appendleft':\r\n",
    "        output.appendleft(v)\r\n",
    "    if method == 'pop':\r\n",
    "        output.pop()\r\n",
    "    if method == 'popleft':\r\n",
    "        output.popleft()\r\n",
    "print(' '.join([str(i) for i in output]))"
   ],
   "outputs": [],
   "metadata": {}
  }
 ],
 "metadata": {
  "orig_nbformat": 4,
  "language_info": {
   "name": "python"
  }
 },
 "nbformat": 4,
 "nbformat_minor": 2
}