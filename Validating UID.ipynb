{
 "cells": [
  {
   "cell_type": "code",
   "execution_count": null,
   "source": [
    "# Naive solution\r\n",
    "\r\n",
    "t = int(input())\r\n",
    "for _ in range(t):\r\n",
    "    uid = input()\r\n",
    "    u = sum([1 for c in uid if c.isupper()])\r\n",
    "    d = sum([1 for c in uid if c.isnumeric()])\r\n",
    "    an = sum([1 for c in uid if c.isalnum()])\r\n",
    "    cnt = sum([1 for c in uid if uid.count(c) > 1])\r\n",
    "    if (len(uid) == 10) and (u >= 2) and (d >= 3) and (an == len(uid)) and (cnt == 0):\r\n",
    "        print('Valid')\r\n",
    "    else:\r\n",
    "        print('Invalid')"
   ],
   "outputs": [],
   "metadata": {}
  },
  {
   "cell_type": "code",
   "execution_count": null,
   "source": [
    "# Alternate solution\r\n",
    "\r\n",
    "t = int(input())\r\n",
    "for _ in range(t):\r\n",
    "    uid = input()\r\n",
    "    u, d, an, cnt = 0, 0, 0, 0\r\n",
    "    for c in uid:\r\n",
    "        if c.isupper():\r\n",
    "            u += 1\r\n",
    "        if c.isnumeric():\r\n",
    "            d += 1\r\n",
    "        if c.isalnum():\r\n",
    "            an += 1\r\n",
    "        if uid.count(c) > 1:\r\n",
    "            cnt += 1\r\n",
    "    if (len(uid) == 10) and (u >= 2) and (d >= 3) and (an == len(uid)) and (cnt == 0):\r\n",
    "        print('Valid')\r\n",
    "    else:\r\n",
    "        print('Invalid')"
   ],
   "outputs": [],
   "metadata": {}
  }
 ],
 "metadata": {
  "orig_nbformat": 4,
  "language_info": {
   "name": "python"
  }
 },
 "nbformat": 4,
 "nbformat_minor": 2
}